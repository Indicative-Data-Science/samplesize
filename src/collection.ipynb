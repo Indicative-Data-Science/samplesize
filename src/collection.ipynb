{
 "metadata": {
  "language_info": {
   "codemirror_mode": {
    "name": "ipython",
    "version": 3
   },
   "file_extension": ".py",
   "mimetype": "text/x-python",
   "name": "python",
   "nbconvert_exporter": "python",
   "pygments_lexer": "ipython3",
   "version": "3.9.1"
  },
  "orig_nbformat": 4,
  "kernelspec": {
   "name": "python3",
   "display_name": "Python 3.9.1 64-bit ('.venv': venv)"
  },
  "interpreter": {
   "hash": "9705feb773ff1d9aeb7ac0c1c03e3ae0a425c583fb9819d4f74e15fc70a48337"
  }
 },
 "nbformat": 4,
 "nbformat_minor": 2,
 "cells": [
  {
   "cell_type": "code",
   "execution_count": null,
   "metadata": {},
   "outputs": [],
   "source": [
    "import pandas as pd\n",
    "import numpy as np\n",
    "import matplotlib.pyplot as plt\n",
    "\n",
    "import metrics\n",
    "import collection\n",
    "import seaborn as sns"
   ]
  },
  {
   "cell_type": "code",
   "execution_count": null,
   "metadata": {},
   "outputs": [],
   "source": [
    "obs=pd.read_csv('../data/box_samples_total.csv',index_col=0)\n",
    "obs.describe(include='all')"
   ]
  },
  {
   "cell_type": "code",
   "execution_count": null,
   "metadata": {},
   "outputs": [],
   "source": [
    "metrics.int_metric(obs.z,10,4)"
   ]
  },
  {
   "source": [
    "10 million obs give 500k that intersect, and 116k with an I_4 metric"
   ],
   "cell_type": "markdown",
   "metadata": {}
  },
  {
   "cell_type": "code",
   "execution_count": null,
   "metadata": {},
   "outputs": [],
   "source": [
    "bounds=[np.floor(obs.x.min()),np.floor(obs.y.min()),np.ceil(obs.x.max()-1e-3),np.ceil(obs.y.max())]"
   ]
  },
  {
   "cell_type": "code",
   "execution_count": null,
   "metadata": {},
   "outputs": [],
   "source": [
    "bounds"
   ]
  },
  {
   "cell_type": "code",
   "execution_count": null,
   "metadata": {},
   "outputs": [],
   "source": [
    "observations_plot=collection.create_image(obs.x,obs.y,np.ones_like(obs.x),0.5,bounds,mean=False)\n",
    "np.nanmean(observations_plot)/np.nanstd(observations_plot)"
   ]
  },
  {
   "cell_type": "code",
   "execution_count": null,
   "metadata": {},
   "outputs": [],
   "source": [
    "plt.imshow(observations_plot)"
   ]
  },
  {
   "cell_type": "code",
   "execution_count": null,
   "metadata": {},
   "outputs": [],
   "source": [
    "pd.DataFrame(observations_plot.flatten()).describe()"
   ]
  },
  {
   "cell_type": "code",
   "execution_count": null,
   "metadata": {},
   "outputs": [],
   "source": [
    "plt.hist(observations_plot.flatten())\n",
    "plt.show()"
   ]
  },
  {
   "source": [
    "Normally distributed number of observations in each cell"
   ],
   "cell_type": "markdown",
   "metadata": {}
  },
  {
   "cell_type": "code",
   "execution_count": null,
   "metadata": {},
   "outputs": [],
   "source": [
    "intersection_plot=collection.create_image(obs.x,obs.y,~obs.z.isna(),0.5,bounds,mean=True)"
   ]
  },
  {
   "cell_type": "code",
   "execution_count": null,
   "metadata": {},
   "outputs": [],
   "source": [
    "pd.DataFrame(intersection_plot.flatten()).describe()"
   ]
  },
  {
   "cell_type": "code",
   "execution_count": null,
   "metadata": {},
   "outputs": [],
   "source": [
    "sns.histplot(intersection_plot.flatten())"
   ]
  },
  {
   "cell_type": "code",
   "execution_count": null,
   "metadata": {},
   "outputs": [],
   "source": [
    "a=np.log(intersection_plot)\n",
    "a=np.ma.masked_invalid(a)\n",
    "sns.histplot(a.flatten())"
   ]
  },
  {
   "source": [
    "lognormal distribution of intersection"
   ],
   "cell_type": "markdown",
   "metadata": {}
  },
  {
   "cell_type": "code",
   "execution_count": null,
   "metadata": {},
   "outputs": [],
   "source": [
    "plt.imshow(a)"
   ]
  },
  {
   "source": [
    "Spatial correlation of observation effectiveness. Being closer is better. Directly south is bad, but se and sw is good."
   ],
   "cell_type": "markdown",
   "metadata": {}
  },
  {
   "cell_type": "code",
   "execution_count": null,
   "metadata": {},
   "outputs": [],
   "source": [
    "plt.plot((1-obs.z.isna()).groupby(pd.cut(obs.d_building,100)).mean())"
   ]
  },
  {
   "cell_type": "code",
   "execution_count": null,
   "metadata": {},
   "outputs": [],
   "source": [
    "plt.plot((1-obs.z.isna()).groupby(pd.cut(np.log(1+obs.d_building),100)).mean())"
   ]
  },
  {
   "cell_type": "code",
   "execution_count": null,
   "metadata": {},
   "outputs": [],
   "source": [
    "import statsmodels.api as sm\n",
    "import statsmodels.formula.api as smf"
   ]
  },
  {
   "cell_type": "code",
   "execution_count": null,
   "metadata": {},
   "outputs": [],
   "source": [
    "obs['i']=1-obs.z.isna()\n",
    "obs"
   ]
  },
  {
   "cell_type": "code",
   "execution_count": null,
   "metadata": {},
   "outputs": [],
   "source": [
    "m2=smf.glm('i ~ I(np.log(1+d_building))',data =obs,family=sm.families.Binomial()).fit()\n",
    "print(m2.summary())"
   ]
  },
  {
   "cell_type": "code",
   "execution_count": null,
   "metadata": {},
   "outputs": [],
   "source": [
    "p=obs.i.groupby(pd.cut(np.log(1+obs.d_building),100,include_lowest=True)).mean()\n",
    "odds=p/(1-p)\n",
    "odds"
   ]
  },
  {
   "cell_type": "code",
   "execution_count": null,
   "metadata": {},
   "outputs": [],
   "source": [
    "y=np.exp(m2.params[0]+ m2.params[1]*(odds.index.categories.mid))\n",
    "p=y/(1+y)\n",
    "log_predicts=pd.DataFrame({\"x\":np.exp(odds.index.categories.mid)-1,\"y\":y,\"p\":p})\n",
    "log_predicts"
   ]
  },
  {
   "cell_type": "code",
   "execution_count": null,
   "metadata": {},
   "outputs": [],
   "source": [
    "(odds/(1+odds))"
   ]
  },
  {
   "cell_type": "code",
   "execution_count": null,
   "metadata": {},
   "outputs": [],
   "source": [
    "a= sns.scatterplot(np.exp(odds.index.categories.mid)-1,odds/(1+odds))\n",
    "sns.lineplot(x='x',y='p',data=log_predicts,ax=a)\n",
    "# plt.yscale('log')\n",
    "plt.xscale('log')\n",
    "plt.xlim(1,100)\n",
    "plt.ylabel('Probability')\n",
    "plt.xlabel('Distance (metres)')\n",
    "plt.savefig('../figures/distance_regression.png')\n"
   ]
  },
  {
   "cell_type": "code",
   "execution_count": null,
   "metadata": {},
   "outputs": [],
   "source": [
    "intersection_residuals_plot=collection.create_image(obs.x.round(0),obs.y.round(0),obs.i-m2.fittedvalues,1,bounds,mean=True)"
   ]
  },
  {
   "cell_type": "code",
   "execution_count": null,
   "metadata": {},
   "outputs": [],
   "source": [
    "pd.DataFrame(intersection_residuals_plot.flatten()).describe()"
   ]
  },
  {
   "cell_type": "code",
   "execution_count": null,
   "metadata": {},
   "outputs": [],
   "source": [
    "a=plt.imshow(intersection_residuals_plot,cmap='coolwarm',vmin=-0.15,vmax=0.15,origin='lower')\n",
    "plt.colorbar(a)\n",
    "plt.savefig('../figures/distance_residuals.png')"
   ]
  },
  {
   "source": [
    "We also need to consider the effect of building height.\n"
   ],
   "cell_type": "markdown",
   "metadata": {}
  },
  {
   "cell_type": "code",
   "execution_count": null,
   "metadata": {},
   "outputs": [],
   "source": [
    "sns.histplot(np.tan(np.deg2rad(obs.el)),stat='probability',bins=25,binrange=(0,2.5))\n",
    "plt.xlabel('Intersection height as a fraction of distance')\n",
    "plt.savefig('../figures/elevation.png')"
   ]
  },
  {
   "cell_type": "code",
   "execution_count": null,
   "metadata": {},
   "outputs": [],
   "source": [
    "np.tan(np.deg2rad(obs.el))"
   ]
  },
  {
   "cell_type": "code",
   "execution_count": null,
   "metadata": {},
   "outputs": [],
   "source": [
    "from metrics import _indicator as indicator"
   ]
  },
  {
   "cell_type": "code",
   "execution_count": null,
   "metadata": {},
   "outputs": [],
   "source": [
    "cuts_=pd.cut(obs.d_building,100)"
   ]
  },
  {
   "cell_type": "code",
   "execution_count": null,
   "metadata": {},
   "outputs": [],
   "source": [
    "indicators = []\n",
    "for i,h in enumerate([5,10,20,40]):\n",
    "    for j,m in enumerate([1,4,8,np.inf]):\n",
    "        df=pd.DataFrame({'Height':h,'Metric':m, 'Distance': cuts_.cat.categories.mid, \"Proportion\": indicator(obs.z,h,m).astype('int').groupby(cuts_).mean()})\n",
    "        indicators.append(df)\n",
    "indicators=pd.concat([i.reset_index() for i in indicators])\n",
    "indicators.Height=indicators.Height.astype('category')\n",
    "indicators.Metric=indicators.Metric.astype('category')"
   ]
  },
  {
   "cell_type": "code",
   "execution_count": null,
   "metadata": {},
   "outputs": [],
   "source": [
    "g=sns.FacetGrid(indicators,col='Height',col_wrap=2,sharex=True,sharey=True,legend_out=True)\n",
    "g=g.map_dataframe(sns.lineplot,x='Distance',y='Proportion',hue='Metric').add_legend()\n",
    "g._legend.set_title('Metrics')\n",
    "new_labels = ['I_1', 'I_4','I_8', 'I_inf']\n",
    "for t, l in zip(g._legend.texts, new_labels): t.set_text(l)\n",
    "plt.xscale('log')\n",
    "plt.yscale('log')\n",
    "g.set_ylabels('Probability')\n",
    "g.set_xlabels('Distance')\n",
    "# plt.legend()\n",
    "plt.savefig('../figures/height_metrics.png')"
   ]
  },
  {
   "cell_type": "code",
   "execution_count": null,
   "metadata": {},
   "outputs": [],
   "source": [
    "fig,axes=plt.subplots(ncols=4,figsize=(12,4))\n",
    "for i,h in enumerate([10,20,30,40]):\n",
    "    axes[i].imshow(collection.create_image(obs.x,obs.y,indicator(obs.z,h,4).astype('int'),0.25,bounds,mean=False)/(i_count+0.01),vmin=0,vmax=0.35)"
   ]
  },
  {
   "cell_type": "code",
   "execution_count": null,
   "metadata": {},
   "outputs": [],
   "source": [
    "fig,axes=plt.subplots(ncols=4,figsize=(12,4))\n",
    "for i,h in enumerate([10,20,30,40]):\n",
    "    axes[i].imshow(collection.create_image(obs.x,obs.y,indicator(obs.z,h,4).astype('int'),0.5,bounds,mean=True),vmin=0,vmax=0.01)"
   ]
  }
 ]
}