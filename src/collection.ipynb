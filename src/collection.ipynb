{
 "metadata": {
  "language_info": {
   "codemirror_mode": {
    "name": "ipython",
    "version": 3
   },
   "file_extension": ".py",
   "mimetype": "text/x-python",
   "name": "python",
   "nbconvert_exporter": "python",
   "pygments_lexer": "ipython3",
   "version": "3.7.10"
  },
  "orig_nbformat": 4,
  "kernelspec": {
   "name": "python3",
   "display_name": "Python 3.7.10 64-bit ('.venv': venv)"
  },
  "interpreter": {
   "hash": "ea33e960d487cb7ab7050aa5e74ffdc4b3c162331c1f5e48f0a03d11c1ee4d1e"
  }
 },
 "nbformat": 4,
 "nbformat_minor": 2,
 "cells": [
  {
   "cell_type": "code",
   "execution_count": 2,
   "source": [
    "import pandas as pd\n",
    "import numpy as np\n",
    "import matplotlib.pyplot as plt\n",
    "\n",
    "import metrics\n",
    "import collection\n",
    "import seaborn as sns"
   ],
   "outputs": [],
   "metadata": {}
  },
  {
   "cell_type": "code",
   "execution_count": 3,
   "source": [
    "obs=pd.read_csv('../data/box_samples_total.csv',index_col=0)\n",
    "obs.describe(include='all')"
   ],
   "outputs": [
    {
     "output_type": "stream",
     "name": "stderr",
     "text": [
      "/Users/terry/GNSS/.venv/lib/python3.7/site-packages/numpy/lib/arraysetops.py:583: FutureWarning: elementwise comparison failed; returning scalar instead, but in the future will perform elementwise comparison\n",
      "  mask |= (ar1 == a)\n"
     ]
    },
    {
     "output_type": "execute_result",
     "data": {
      "text/plain": [
       "                   x             y              w              z  \\\n",
       "count   1.173628e+07  1.173628e+07  815950.000000  815950.000000   \n",
       "unique           NaN           NaN            NaN            NaN   \n",
       "top              NaN           NaN            NaN            NaN   \n",
       "freq             NaN           NaN            NaN            NaN   \n",
       "mean    5.280000e+05  1.830001e+05      19.240882      23.702506   \n",
       "std     2.899120e+01  2.899982e+01      11.020517      41.980056   \n",
       "min     5.279500e+05  1.829500e+05       0.000033       1.000010   \n",
       "25%     5.279748e+05  1.829749e+05      10.046013       4.056403   \n",
       "50%     5.280000e+05  1.830000e+05      19.243077      10.599973   \n",
       "75%     5.280252e+05  1.830253e+05      28.030802      25.434645   \n",
       "max     5.280500e+05  1.830500e+05      39.999951     733.591411   \n",
       "\n",
       "                    a              b          d_ray    d_building  \\\n",
       "count   815950.000000  815950.000000  815950.000000  1.173628e+07   \n",
       "unique            NaN            NaN            NaN           NaN   \n",
       "top               NaN            NaN            NaN           NaN   \n",
       "freq              NaN            NaN            NaN           NaN   \n",
       "mean    527999.824319  182999.611326      27.016147  3.223095e+01   \n",
       "std          4.149538       3.993823      16.132895  1.367070e+01   \n",
       "min     527995.000000  182995.000000       0.000504  5.011397e-04   \n",
       "25%     527995.000000  182995.000000      13.258976  2.237134e+01   \n",
       "50%     527999.630868  182999.272302      26.599299  3.376414e+01   \n",
       "75%     528004.973326  183003.956813      39.883373  4.265357e+01   \n",
       "max     528005.000000  183005.000000      70.632807  6.356798e+01   \n",
       "\n",
       "                   az            el                           time  \n",
       "count   815950.000000  1.173628e+07                       11736284  \n",
       "unique            NaN           NaN                         297005  \n",
       "top               NaN           NaN  2021-01-01 01:45:13.049472423  \n",
       "freq              NaN           NaN                             49  \n",
       "mean       170.220103  2.925803e+01                            NaN  \n",
       "std        106.214906  2.219990e+01                            NaN  \n",
       "min          0.000426  1.587565e-05                            NaN  \n",
       "25%         63.476517  1.051647e+01                            NaN  \n",
       "50%        162.308456  2.418964e+01                            NaN  \n",
       "75%        277.588176  4.468462e+01                            NaN  \n",
       "max        359.999489  8.499987e+01                            NaN  "
      ],
      "text/html": [
       "<div>\n",
       "<style scoped>\n",
       "    .dataframe tbody tr th:only-of-type {\n",
       "        vertical-align: middle;\n",
       "    }\n",
       "\n",
       "    .dataframe tbody tr th {\n",
       "        vertical-align: top;\n",
       "    }\n",
       "\n",
       "    .dataframe thead th {\n",
       "        text-align: right;\n",
       "    }\n",
       "</style>\n",
       "<table border=\"1\" class=\"dataframe\">\n",
       "  <thead>\n",
       "    <tr style=\"text-align: right;\">\n",
       "      <th></th>\n",
       "      <th>x</th>\n",
       "      <th>y</th>\n",
       "      <th>w</th>\n",
       "      <th>z</th>\n",
       "      <th>a</th>\n",
       "      <th>b</th>\n",
       "      <th>d_ray</th>\n",
       "      <th>d_building</th>\n",
       "      <th>az</th>\n",
       "      <th>el</th>\n",
       "      <th>time</th>\n",
       "    </tr>\n",
       "  </thead>\n",
       "  <tbody>\n",
       "    <tr>\n",
       "      <th>count</th>\n",
       "      <td>1.173628e+07</td>\n",
       "      <td>1.173628e+07</td>\n",
       "      <td>815950.000000</td>\n",
       "      <td>815950.000000</td>\n",
       "      <td>815950.000000</td>\n",
       "      <td>815950.000000</td>\n",
       "      <td>815950.000000</td>\n",
       "      <td>1.173628e+07</td>\n",
       "      <td>815950.000000</td>\n",
       "      <td>1.173628e+07</td>\n",
       "      <td>11736284</td>\n",
       "    </tr>\n",
       "    <tr>\n",
       "      <th>unique</th>\n",
       "      <td>NaN</td>\n",
       "      <td>NaN</td>\n",
       "      <td>NaN</td>\n",
       "      <td>NaN</td>\n",
       "      <td>NaN</td>\n",
       "      <td>NaN</td>\n",
       "      <td>NaN</td>\n",
       "      <td>NaN</td>\n",
       "      <td>NaN</td>\n",
       "      <td>NaN</td>\n",
       "      <td>297005</td>\n",
       "    </tr>\n",
       "    <tr>\n",
       "      <th>top</th>\n",
       "      <td>NaN</td>\n",
       "      <td>NaN</td>\n",
       "      <td>NaN</td>\n",
       "      <td>NaN</td>\n",
       "      <td>NaN</td>\n",
       "      <td>NaN</td>\n",
       "      <td>NaN</td>\n",
       "      <td>NaN</td>\n",
       "      <td>NaN</td>\n",
       "      <td>NaN</td>\n",
       "      <td>2021-01-01 01:45:13.049472423</td>\n",
       "    </tr>\n",
       "    <tr>\n",
       "      <th>freq</th>\n",
       "      <td>NaN</td>\n",
       "      <td>NaN</td>\n",
       "      <td>NaN</td>\n",
       "      <td>NaN</td>\n",
       "      <td>NaN</td>\n",
       "      <td>NaN</td>\n",
       "      <td>NaN</td>\n",
       "      <td>NaN</td>\n",
       "      <td>NaN</td>\n",
       "      <td>NaN</td>\n",
       "      <td>49</td>\n",
       "    </tr>\n",
       "    <tr>\n",
       "      <th>mean</th>\n",
       "      <td>5.280000e+05</td>\n",
       "      <td>1.830001e+05</td>\n",
       "      <td>19.240882</td>\n",
       "      <td>23.702506</td>\n",
       "      <td>527999.824319</td>\n",
       "      <td>182999.611326</td>\n",
       "      <td>27.016147</td>\n",
       "      <td>3.223095e+01</td>\n",
       "      <td>170.220103</td>\n",
       "      <td>2.925803e+01</td>\n",
       "      <td>NaN</td>\n",
       "    </tr>\n",
       "    <tr>\n",
       "      <th>std</th>\n",
       "      <td>2.899120e+01</td>\n",
       "      <td>2.899982e+01</td>\n",
       "      <td>11.020517</td>\n",
       "      <td>41.980056</td>\n",
       "      <td>4.149538</td>\n",
       "      <td>3.993823</td>\n",
       "      <td>16.132895</td>\n",
       "      <td>1.367070e+01</td>\n",
       "      <td>106.214906</td>\n",
       "      <td>2.219990e+01</td>\n",
       "      <td>NaN</td>\n",
       "    </tr>\n",
       "    <tr>\n",
       "      <th>min</th>\n",
       "      <td>5.279500e+05</td>\n",
       "      <td>1.829500e+05</td>\n",
       "      <td>0.000033</td>\n",
       "      <td>1.000010</td>\n",
       "      <td>527995.000000</td>\n",
       "      <td>182995.000000</td>\n",
       "      <td>0.000504</td>\n",
       "      <td>5.011397e-04</td>\n",
       "      <td>0.000426</td>\n",
       "      <td>1.587565e-05</td>\n",
       "      <td>NaN</td>\n",
       "    </tr>\n",
       "    <tr>\n",
       "      <th>25%</th>\n",
       "      <td>5.279748e+05</td>\n",
       "      <td>1.829749e+05</td>\n",
       "      <td>10.046013</td>\n",
       "      <td>4.056403</td>\n",
       "      <td>527995.000000</td>\n",
       "      <td>182995.000000</td>\n",
       "      <td>13.258976</td>\n",
       "      <td>2.237134e+01</td>\n",
       "      <td>63.476517</td>\n",
       "      <td>1.051647e+01</td>\n",
       "      <td>NaN</td>\n",
       "    </tr>\n",
       "    <tr>\n",
       "      <th>50%</th>\n",
       "      <td>5.280000e+05</td>\n",
       "      <td>1.830000e+05</td>\n",
       "      <td>19.243077</td>\n",
       "      <td>10.599973</td>\n",
       "      <td>527999.630868</td>\n",
       "      <td>182999.272302</td>\n",
       "      <td>26.599299</td>\n",
       "      <td>3.376414e+01</td>\n",
       "      <td>162.308456</td>\n",
       "      <td>2.418964e+01</td>\n",
       "      <td>NaN</td>\n",
       "    </tr>\n",
       "    <tr>\n",
       "      <th>75%</th>\n",
       "      <td>5.280252e+05</td>\n",
       "      <td>1.830253e+05</td>\n",
       "      <td>28.030802</td>\n",
       "      <td>25.434645</td>\n",
       "      <td>528004.973326</td>\n",
       "      <td>183003.956813</td>\n",
       "      <td>39.883373</td>\n",
       "      <td>4.265357e+01</td>\n",
       "      <td>277.588176</td>\n",
       "      <td>4.468462e+01</td>\n",
       "      <td>NaN</td>\n",
       "    </tr>\n",
       "    <tr>\n",
       "      <th>max</th>\n",
       "      <td>5.280500e+05</td>\n",
       "      <td>1.830500e+05</td>\n",
       "      <td>39.999951</td>\n",
       "      <td>733.591411</td>\n",
       "      <td>528005.000000</td>\n",
       "      <td>183005.000000</td>\n",
       "      <td>70.632807</td>\n",
       "      <td>6.356798e+01</td>\n",
       "      <td>359.999489</td>\n",
       "      <td>8.499987e+01</td>\n",
       "      <td>NaN</td>\n",
       "    </tr>\n",
       "  </tbody>\n",
       "</table>\n",
       "</div>"
      ]
     },
     "metadata": {},
     "execution_count": 3
    }
   ],
   "metadata": {}
  },
  {
   "cell_type": "code",
   "execution_count": 5,
   "source": [
    "print(metrics.int_metric(obs.z,10,np.inf))\n",
    "print(metrics.int_metric(obs.z,10,np.inf)/obs.shape[0])\n",
    "print(metrics.int_metric(obs.z,10,8))\n",
    "print(metrics.int_metric(obs.z,10,8)/obs.shape[0])\n",
    "print(metrics.int_metric(obs.z,10,1))\n",
    "print(metrics.int_metric(obs.z,10,1)/obs.shape[0])"
   ],
   "outputs": [
    {
     "output_type": "stream",
     "name": "stdout",
     "text": [
      "815950\n",
      "0.06952370954895093\n",
      "444136\n",
      "0.03784298334975534\n",
      "46735\n",
      "0.003982095184472359\n"
     ]
    }
   ],
   "metadata": {}
  },
  {
   "cell_type": "markdown",
   "source": [
    "10 million obs give 500k that intersect, and 116k with an I_4 metric"
   ],
   "metadata": {}
  },
  {
   "cell_type": "code",
   "execution_count": 6,
   "source": [
    "bounds=[np.floor(obs.x.min()),np.floor(obs.y.min()),np.ceil(obs.x.max()-1e-3),np.ceil(obs.y.max())]"
   ],
   "outputs": [],
   "metadata": {}
  },
  {
   "cell_type": "code",
   "execution_count": 7,
   "source": [
    "bounds"
   ],
   "outputs": [
    {
     "output_type": "execute_result",
     "data": {
      "text/plain": [
       "[527950.0, 182949.0, 528050.0, 183050.0]"
      ]
     },
     "metadata": {},
     "execution_count": 7
    }
   ],
   "metadata": {}
  },
  {
   "cell_type": "code",
   "execution_count": 8,
   "source": [
    "observations_plot=collection.create_image(obs.x,obs.y,np.ones_like(obs.x),0.5,bounds,mean=False)\n",
    "np.nanmean(observations_plot)/np.nanstd(observations_plot)"
   ],
   "outputs": [
    {
     "output_type": "execute_result",
     "data": {
      "text/plain": [
       "6.7268848634769505"
      ]
     },
     "metadata": {},
     "execution_count": 8
    }
   ],
   "metadata": {}
  },
  {
   "cell_type": "code",
   "execution_count": 19,
   "source": [
    "plt.imshow(observations_plot,origin='lower')"
   ],
   "outputs": [
    {
     "output_type": "execute_result",
     "data": {
      "text/plain": [
       "<matplotlib.image.AxesImage at 0x12f49bed0>"
      ]
     },
     "metadata": {},
     "execution_count": 19
    },
    {
     "output_type": "display_data",
     "data": {
      "text/plain": [
       "<Figure size 432x288 with 1 Axes>"
      ],
      "image/png": "[encoded data removed]"
     },
     "metadata": {
      "needs_background": "light"
     }
    }
   ],
   "metadata": {}
  },
  {
   "cell_type": "code",
   "execution_count": 10,
   "source": [
    "pd.DataFrame(observations_plot.flatten()).describe()"
   ],
   "outputs": [
    {
     "output_type": "execute_result",
     "data": {
      "text/plain": [
       "                0\n",
       "count  2536.00000\n",
       "mean   4627.87224\n",
       "std     688.10230\n",
       "min      38.00000\n",
       "25%    4398.00000\n",
       "50%    4704.00000\n",
       "75%    5018.00000\n",
       "max    6345.00000"
      ],
      "text/html": [
       "<div>\n",
       "<style scoped>\n",
       "    .dataframe tbody tr th:only-of-type {\n",
       "        vertical-align: middle;\n",
       "    }\n",
       "\n",
       "    .dataframe tbody tr th {\n",
       "        vertical-align: top;\n",
       "    }\n",
       "\n",
       "    .dataframe thead th {\n",
       "        text-align: right;\n",
       "    }\n",
       "</style>\n",
       "<table border=\"1\" class=\"dataframe\">\n",
       "  <thead>\n",
       "    <tr style=\"text-align: right;\">\n",
       "      <th></th>\n",
       "      <th>0</th>\n",
       "    </tr>\n",
       "  </thead>\n",
       "  <tbody>\n",
       "    <tr>\n",
       "      <th>count</th>\n",
       "      <td>2536.00000</td>\n",
       "    </tr>\n",
       "    <tr>\n",
       "      <th>mean</th>\n",
       "      <td>4627.87224</td>\n",
       "    </tr>\n",
       "    <tr>\n",
       "      <th>std</th>\n",
       "      <td>688.10230</td>\n",
       "    </tr>\n",
       "    <tr>\n",
       "      <th>min</th>\n",
       "      <td>38.00000</td>\n",
       "    </tr>\n",
       "    <tr>\n",
       "      <th>25%</th>\n",
       "      <td>4398.00000</td>\n",
       "    </tr>\n",
       "    <tr>\n",
       "      <th>50%</th>\n",
       "      <td>4704.00000</td>\n",
       "    </tr>\n",
       "    <tr>\n",
       "      <th>75%</th>\n",
       "      <td>5018.00000</td>\n",
       "    </tr>\n",
       "    <tr>\n",
       "      <th>max</th>\n",
       "      <td>6345.00000</td>\n",
       "    </tr>\n",
       "  </tbody>\n",
       "</table>\n",
       "</div>"
      ]
     },
     "metadata": {},
     "execution_count": 10
    }
   ],
   "metadata": {}
  },
  {
   "cell_type": "code",
   "execution_count": 11,
   "source": [
    "plt.hist(observations_plot.flatten())\n",
    "plt.show()"
   ],
   "outputs": [
    {
     "output_type": "display_data",
     "data": {
      "text/plain": [
       "<Figure size 432x288 with 1 Axes>"
      ],
      "image/png": "[encoded data removed]"
     },
     "metadata": {
      "needs_background": "light"
     }
    }
   ],
   "metadata": {}
  },
  {
   "cell_type": "markdown",
   "source": [
    "Normally distributed number of observations in each cell"
   ],
   "metadata": {}
  },
  {
   "cell_type": "code",
   "execution_count": 12,
   "source": [
    "intersection_plot=collection.create_image(obs.x,obs.y,~obs.z.isna(),0.5,bounds,mean=True)"
   ],
   "outputs": [],
   "metadata": {}
  },
  {
   "cell_type": "code",
   "execution_count": 13,
   "source": [
    "pd.DataFrame(intersection_plot.flatten()).describe()"
   ],
   "outputs": [
    {
     "output_type": "execute_result",
     "data": {
      "text/plain": [
       "                 0\n",
       "count  2536.000000\n",
       "mean      0.069335\n",
       "std       0.058752\n",
       "min       0.000000\n",
       "25%       0.036358\n",
       "50%       0.052249\n",
       "75%       0.079618\n",
       "max       0.513475"
      ],
      "text/html": [
       "<div>\n",
       "<style scoped>\n",
       "    .dataframe tbody tr th:only-of-type {\n",
       "        vertical-align: middle;\n",
       "    }\n",
       "\n",
       "    .dataframe tbody tr th {\n",
       "        vertical-align: top;\n",
       "    }\n",
       "\n",
       "    .dataframe thead th {\n",
       "        text-align: right;\n",
       "    }\n",
       "</style>\n",
       "<table border=\"1\" class=\"dataframe\">\n",
       "  <thead>\n",
       "    <tr style=\"text-align: right;\">\n",
       "      <th></th>\n",
       "      <th>0</th>\n",
       "    </tr>\n",
       "  </thead>\n",
       "  <tbody>\n",
       "    <tr>\n",
       "      <th>count</th>\n",
       "      <td>2536.000000</td>\n",
       "    </tr>\n",
       "    <tr>\n",
       "      <th>mean</th>\n",
       "      <td>0.069335</td>\n",
       "    </tr>\n",
       "    <tr>\n",
       "      <th>std</th>\n",
       "      <td>0.058752</td>\n",
       "    </tr>\n",
       "    <tr>\n",
       "      <th>min</th>\n",
       "      <td>0.000000</td>\n",
       "    </tr>\n",
       "    <tr>\n",
       "      <th>25%</th>\n",
       "      <td>0.036358</td>\n",
       "    </tr>\n",
       "    <tr>\n",
       "      <th>50%</th>\n",
       "      <td>0.052249</td>\n",
       "    </tr>\n",
       "    <tr>\n",
       "      <th>75%</th>\n",
       "      <td>0.079618</td>\n",
       "    </tr>\n",
       "    <tr>\n",
       "      <th>max</th>\n",
       "      <td>0.513475</td>\n",
       "    </tr>\n",
       "  </tbody>\n",
       "</table>\n",
       "</div>"
      ]
     },
     "metadata": {},
     "execution_count": 13
    }
   ],
   "metadata": {}
  },
  {
   "cell_type": "code",
   "execution_count": 14,
   "source": [
    "sns.histplot(intersection_plot.flatten())"
   ],
   "outputs": [
    {
     "output_type": "execute_result",
     "data": {
      "text/plain": [
       "<AxesSubplot:ylabel='Count'>"
      ]
     },
     "metadata": {},
     "execution_count": 14
    },
    {
     "output_type": "display_data",
     "data": {
      "text/plain": [
       "<Figure size 432x288 with 1 Axes>"
      ],
      "image/png": "[encoded data removed]"
     },
     "metadata": {
      "needs_background": "light"
     }
    }
   ],
   "metadata": {}
  },
  {
   "cell_type": "code",
   "execution_count": 15,
   "source": [
    "a=np.log(intersection_plot)\n",
    "a=np.ma.masked_invalid(a)\n",
    "sns.histplot(a.flatten())"
   ],
   "outputs": [
    {
     "output_type": "stream",
     "name": "stderr",
     "text": [
      "/Users/terry/GNSS/.venv/lib/python3.7/site-packages/ipykernel_launcher.py:1: RuntimeWarning: divide by zero encountered in log\n",
      "  \"\"\"Entry point for launching an IPython kernel.\n"
     ]
    },
    {
     "output_type": "execute_result",
     "data": {
      "text/plain": [
       "<AxesSubplot:ylabel='Count'>"
      ]
     },
     "metadata": {},
     "execution_count": 15
    },
    {
     "output_type": "display_data",
     "data": {
      "text/plain": [
       "<Figure size 432x288 with 1 Axes>"
      ],
      "image/png": "[encoded data removed]"
     },
     "metadata": {
      "needs_background": "light"
     }
    }
   ],
   "metadata": {}
  },
  {
   "cell_type": "markdown",
   "source": [
    "lognormal distribution of intersection"
   ],
   "metadata": {}
  },
  {
   "cell_type": "code",
   "execution_count": 20,
   "source": [
    "plt.imshow(a,origin='lower')"
   ],
   "outputs": [
    {
     "output_type": "execute_result",
     "data": {
      "text/plain": [
       "<matplotlib.image.AxesImage at 0x12f339f90>"
      ]
     },
     "metadata": {},
     "execution_count": 20
    },
    {
     "output_type": "display_data",
     "data": {
      "text/plain": [
       "<Figure size 432x288 with 1 Axes>"
      ],
      "image/png": "[encoded data removed]"
     },
     "metadata": {
      "needs_background": "light"
     }
    }
   ],
   "metadata": {}
  },
  {
   "cell_type": "markdown",
   "source": [
    "Spatial correlation of observation effectiveness. Being closer is better. Directly North is bad, but NE and NW is good."
   ],
   "metadata": {}
  },
  {
   "cell_type": "code",
   "execution_count": 21,
   "source": [
    "plt.plot((1-obs.z.isna()).groupby(pd.cut(obs.d_building,100)).mean())"
   ],
   "outputs": [
    {
     "output_type": "execute_result",
     "data": {
      "text/plain": [
       "[<matplotlib.lines.Line2D at 0x12e2b47d0>]"
      ]
     },
     "metadata": {},
     "execution_count": 21
    },
    {
     "output_type": "display_data",
     "data": {
      "text/plain": [
       "<Figure size 432x288 with 1 Axes>"
      ],
      "image/png": "[encoded data removed]"
     },
     "metadata": {
      "needs_background": "light"
     }
    }
   ],
   "metadata": {}
  },
  {
   "cell_type": "code",
   "execution_count": 22,
   "source": [
    "plt.plot((1-obs.z.isna()).groupby(pd.cut(np.log(1+obs.d_building),100)).mean())"
   ],
   "outputs": [
    {
     "output_type": "execute_result",
     "data": {
      "text/plain": [
       "[<matplotlib.lines.Line2D at 0x12e8da490>]"
      ]
     },
     "metadata": {},
     "execution_count": 22
    },
    {
     "output_type": "display_data",
     "data": {
      "text/plain": [
       "<Figure size 432x288 with 1 Axes>"
      ],
      "image/png": "[encoded data removed]"
     },
     "metadata": {
      "needs_background": "light"
     }
    }
   ],
   "metadata": {}
  },
  {
   "cell_type": "code",
   "execution_count": 24,
   "source": [
    "import statsmodels.api as sm\n",
    "import statsmodels.formula.api as smf"
   ],
   "outputs": [],
   "metadata": {}
  },
  {
   "cell_type": "code",
   "execution_count": 4,
   "source": [
    "obs['i']=1-obs.z.isna()\n",
    "obs"
   ],
   "outputs": [
    {
     "output_type": "execute_result",
     "data": {
      "text/plain": [
       "                     x              y   w   z   a   b  d_ray  d_building  az  \\\n",
       "0        528045.438029  182972.941857 NaN NaN NaN NaN    NaN   46.062955 NaN   \n",
       "1        528045.438029  182972.941857 NaN NaN NaN NaN    NaN   46.062955 NaN   \n",
       "2        528045.438029  182972.941857 NaN NaN NaN NaN    NaN   46.062955 NaN   \n",
       "3        528045.438029  182972.941857 NaN NaN NaN NaN    NaN   46.062955 NaN   \n",
       "4        528045.438029  182972.941857 NaN NaN NaN NaN    NaN   46.062955 NaN   \n",
       "...                ...            ...  ..  ..  ..  ..    ...         ...  ..   \n",
       "3911690  528036.799188  182977.440725 NaN NaN NaN NaN    NaN   36.325149 NaN   \n",
       "3911691  528036.799188  182977.440725 NaN NaN NaN NaN    NaN   36.325149 NaN   \n",
       "3911692  528036.799188  182977.440725 NaN NaN NaN NaN    NaN   36.325149 NaN   \n",
       "3911693  528036.799188  182977.440725 NaN NaN NaN NaN    NaN   36.325149 NaN   \n",
       "3911694  528036.799188  182977.440725 NaN NaN NaN NaN    NaN   36.325149 NaN   \n",
       "\n",
       "                el                           time  i  \n",
       "0        16.243254  2021-01-01 11:46:37.052396169  0  \n",
       "1        31.001096  2021-01-01 11:46:37.052396169  0  \n",
       "2         4.438707  2021-01-01 11:46:37.052396169  0  \n",
       "3        28.132328  2021-01-01 11:46:37.052396169  0  \n",
       "4        35.559313  2021-01-01 11:46:37.052396169  0  \n",
       "...            ...                            ... ..  \n",
       "3911690   5.824014  2021-01-01 19:35:25.968923312  0  \n",
       "3911691  18.716342  2021-01-01 19:35:25.968923312  0  \n",
       "3911692  47.342647  2021-01-01 19:35:25.968923312  0  \n",
       "3911693  34.998305  2021-01-01 19:35:25.968923312  0  \n",
       "3911694  74.481197  2021-01-01 19:35:25.968923312  0  \n",
       "\n",
       "[11736284 rows x 12 columns]"
      ],
      "text/html": [
       "<div>\n",
       "<style scoped>\n",
       "    .dataframe tbody tr th:only-of-type {\n",
       "        vertical-align: middle;\n",
       "    }\n",
       "\n",
       "    .dataframe tbody tr th {\n",
       "        vertical-align: top;\n",
       "    }\n",
       "\n",
       "    .dataframe thead th {\n",
       "        text-align: right;\n",
       "    }\n",
       "</style>\n",
       "<table border=\"1\" class=\"dataframe\">\n",
       "  <thead>\n",
       "    <tr style=\"text-align: right;\">\n",
       "      <th></th>\n",
       "      <th>x</th>\n",
       "      <th>y</th>\n",
       "      <th>w</th>\n",
       "      <th>z</th>\n",
       "      <th>a</th>\n",
       "      <th>b</th>\n",
       "      <th>d_ray</th>\n",
       "      <th>d_building</th>\n",
       "      <th>az</th>\n",
       "      <th>el</th>\n",
       "      <th>time</th>\n",
       "      <th>i</th>\n",
       "    </tr>\n",
       "  </thead>\n",
       "  <tbody>\n",
       "    <tr>\n",
       "      <th>0</th>\n",
       "      <td>528045.438029</td>\n",
       "      <td>182972.941857</td>\n",
       "      <td>NaN</td>\n",
       "      <td>NaN</td>\n",
       "      <td>NaN</td>\n",
       "      <td>NaN</td>\n",
       "      <td>NaN</td>\n",
       "      <td>46.062955</td>\n",
       "      <td>NaN</td>\n",
       "      <td>16.243254</td>\n",
       "      <td>2021-01-01 11:46:37.052396169</td>\n",
       "      <td>0</td>\n",
       "    </tr>\n",
       "    <tr>\n",
       "      <th>1</th>\n",
       "      <td>528045.438029</td>\n",
       "      <td>182972.941857</td>\n",
       "      <td>NaN</td>\n",
       "      <td>NaN</td>\n",
       "      <td>NaN</td>\n",
       "      <td>NaN</td>\n",
       "      <td>NaN</td>\n",
       "      <td>46.062955</td>\n",
       "      <td>NaN</td>\n",
       "      <td>31.001096</td>\n",
       "      <td>2021-01-01 11:46:37.052396169</td>\n",
       "      <td>0</td>\n",
       "    </tr>\n",
       "    <tr>\n",
       "      <th>2</th>\n",
       "      <td>528045.438029</td>\n",
       "      <td>182972.941857</td>\n",
       "      <td>NaN</td>\n",
       "      <td>NaN</td>\n",
       "      <td>NaN</td>\n",
       "      <td>NaN</td>\n",
       "      <td>NaN</td>\n",
       "      <td>46.062955</td>\n",
       "      <td>NaN</td>\n",
       "      <td>4.438707</td>\n",
       "      <td>2021-01-01 11:46:37.052396169</td>\n",
       "      <td>0</td>\n",
       "    </tr>\n",
       "    <tr>\n",
       "      <th>3</th>\n",
       "      <td>528045.438029</td>\n",
       "      <td>182972.941857</td>\n",
       "      <td>NaN</td>\n",
       "      <td>NaN</td>\n",
       "      <td>NaN</td>\n",
       "      <td>NaN</td>\n",
       "      <td>NaN</td>\n",
       "      <td>46.062955</td>\n",
       "      <td>NaN</td>\n",
       "      <td>28.132328</td>\n",
       "      <td>2021-01-01 11:46:37.052396169</td>\n",
       "      <td>0</td>\n",
       "    </tr>\n",
       "    <tr>\n",
       "      <th>4</th>\n",
       "      <td>528045.438029</td>\n",
       "      <td>182972.941857</td>\n",
       "      <td>NaN</td>\n",
       "      <td>NaN</td>\n",
       "      <td>NaN</td>\n",
       "      <td>NaN</td>\n",
       "      <td>NaN</td>\n",
       "      <td>46.062955</td>\n",
       "      <td>NaN</td>\n",
       "      <td>35.559313</td>\n",
       "      <td>2021-01-01 11:46:37.052396169</td>\n",
       "      <td>0</td>\n",
       "    </tr>\n",
       "    <tr>\n",
       "      <th>...</th>\n",
       "      <td>...</td>\n",
       "      <td>...</td>\n",
       "      <td>...</td>\n",
       "      <td>...</td>\n",
       "      <td>...</td>\n",
       "      <td>...</td>\n",
       "      <td>...</td>\n",
       "      <td>...</td>\n",
       "      <td>...</td>\n",
       "      <td>...</td>\n",
       "      <td>...</td>\n",
       "      <td>...</td>\n",
       "    </tr>\n",
       "    <tr>\n",
       "      <th>3911690</th>\n",
       "      <td>528036.799188</td>\n",
       "      <td>182977.440725</td>\n",
       "      <td>NaN</td>\n",
       "      <td>NaN</td>\n",
       "      <td>NaN</td>\n",
       "      <td>NaN</td>\n",
       "      <td>NaN</td>\n",
       "      <td>36.325149</td>\n",
       "      <td>NaN</td>\n",
       "      <td>5.824014</td>\n",
       "      <td>2021-01-01 19:35:25.968923312</td>\n",
       "      <td>0</td>\n",
       "    </tr>\n",
       "    <tr>\n",
       "      <th>3911691</th>\n",
       "      <td>528036.799188</td>\n",
       "      <td>182977.440725</td>\n",
       "      <td>NaN</td>\n",
       "      <td>NaN</td>\n",
       "      <td>NaN</td>\n",
       "      <td>NaN</td>\n",
       "      <td>NaN</td>\n",
       "      <td>36.325149</td>\n",
       "      <td>NaN</td>\n",
       "      <td>18.716342</td>\n",
       "      <td>2021-01-01 19:35:25.968923312</td>\n",
       "      <td>0</td>\n",
       "    </tr>\n",
       "    <tr>\n",
       "      <th>3911692</th>\n",
       "      <td>528036.799188</td>\n",
       "      <td>182977.440725</td>\n",
       "      <td>NaN</td>\n",
       "      <td>NaN</td>\n",
       "      <td>NaN</td>\n",
       "      <td>NaN</td>\n",
       "      <td>NaN</td>\n",
       "      <td>36.325149</td>\n",
       "      <td>NaN</td>\n",
       "      <td>47.342647</td>\n",
       "      <td>2021-01-01 19:35:25.968923312</td>\n",
       "      <td>0</td>\n",
       "    </tr>\n",
       "    <tr>\n",
       "      <th>3911693</th>\n",
       "      <td>528036.799188</td>\n",
       "      <td>182977.440725</td>\n",
       "      <td>NaN</td>\n",
       "      <td>NaN</td>\n",
       "      <td>NaN</td>\n",
       "      <td>NaN</td>\n",
       "      <td>NaN</td>\n",
       "      <td>36.325149</td>\n",
       "      <td>NaN</td>\n",
       "      <td>34.998305</td>\n",
       "      <td>2021-01-01 19:35:25.968923312</td>\n",
       "      <td>0</td>\n",
       "    </tr>\n",
       "    <tr>\n",
       "      <th>3911694</th>\n",
       "      <td>528036.799188</td>\n",
       "      <td>182977.440725</td>\n",
       "      <td>NaN</td>\n",
       "      <td>NaN</td>\n",
       "      <td>NaN</td>\n",
       "      <td>NaN</td>\n",
       "      <td>NaN</td>\n",
       "      <td>36.325149</td>\n",
       "      <td>NaN</td>\n",
       "      <td>74.481197</td>\n",
       "      <td>2021-01-01 19:35:25.968923312</td>\n",
       "      <td>0</td>\n",
       "    </tr>\n",
       "  </tbody>\n",
       "</table>\n",
       "<p>11736284 rows × 12 columns</p>\n",
       "</div>"
      ]
     },
     "metadata": {},
     "execution_count": 4
    }
   ],
   "metadata": {}
  },
  {
   "cell_type": "code",
   "execution_count": 26,
   "source": [
    "m2=smf.glm('i ~ I(np.log(1+d_building))',data =obs,family=sm.families.Binomial()).fit()\n",
    "print(m2.summary())"
   ],
   "outputs": [
    {
     "output_type": "stream",
     "name": "stdout",
     "text": [
      "                 Generalized Linear Model Regression Results                  \n",
      "==============================================================================\n",
      "Dep. Variable:                      i   No. Observations:             11736284\n",
      "Model:                            GLM   Df Residuals:                 11736282\n",
      "Model Family:                Binomial   Df Model:                            1\n",
      "Link Function:                  logit   Scale:                          1.0000\n",
      "Method:                          IRLS   Log-Likelihood:            -2.8097e+06\n",
      "Date:                Wed, 21 Jul 2021   Deviance:                   5.6193e+06\n",
      "Time:                        21:37:38   Pearson chi2:                 1.18e+07\n",
      "No. Iterations:                     6                                         \n",
      "Covariance Type:            nonrobust                                         \n",
      "=============================================================================================\n",
      "                                coef    std err          z      P>|z|      [0.025      0.975]\n",
      "---------------------------------------------------------------------------------------------\n",
      "Intercept                     0.1288      0.005     28.313      0.000       0.120       0.138\n",
      "I(np.log(1 + d_building))    -0.8460      0.001   -587.993      0.000      -0.849      -0.843\n",
      "=============================================================================================\n"
     ]
    }
   ],
   "metadata": {}
  },
  {
   "cell_type": "code",
   "execution_count": 27,
   "source": [
    "p=obs.i.groupby(pd.cut(np.log(1+obs.d_building),100,include_lowest=True)).mean()\n",
    "odds=p/(1-p)\n",
    "odds"
   ],
   "outputs": [
    {
     "output_type": "execute_result",
     "data": {
      "text/plain": [
       "d_building\n",
       "(-0.0046700000000000005, 0.0422]    1.001934\n",
       "(0.0422, 0.0838]                    0.969398\n",
       "(0.0838, 0.126]                     0.985261\n",
       "(0.126, 0.167]                      0.848048\n",
       "(0.167, 0.209]                      0.984000\n",
       "                                      ...   \n",
       "(3.959, 4.001]                      0.045200\n",
       "(4.001, 4.043]                      0.044566\n",
       "(4.043, 4.084]                      0.043357\n",
       "(4.084, 4.126]                      0.042743\n",
       "(4.126, 4.168]                      0.042849\n",
       "Name: i, Length: 100, dtype: float64"
      ]
     },
     "metadata": {},
     "execution_count": 27
    }
   ],
   "metadata": {}
  },
  {
   "cell_type": "code",
   "execution_count": 28,
   "source": [
    "y=np.exp(m2.params[0]+ m2.params[1]*(odds.index.categories.mid))\n",
    "p=y/(1+y)\n",
    "log_predicts=pd.DataFrame({\"x\":np.exp(odds.index.categories.mid)-1,\"y\":y,\"p\":p})\n",
    "log_predicts"
   ],
   "outputs": [
    {
     "output_type": "execute_result",
     "data": {
      "text/plain": [
       "            x         y         p\n",
       "0    0.018942  1.119525  0.528196\n",
       "1    0.065027  1.078406  0.518862\n",
       "2    0.110600  1.040851  0.510008\n",
       "3    0.157775  1.004858  0.501212\n",
       "4    0.206834  0.970192  0.492435\n",
       "..        ...       ...       ...\n",
       "95  52.517034  0.039237  0.037756\n",
       "96  54.812620  0.037867  0.036486\n",
       "97  57.177577  0.036561  0.035271\n",
       "98  59.642745  0.035300  0.034096\n",
       "99  62.243983  0.034068  0.032945\n",
       "\n",
       "[100 rows x 3 columns]"
      ],
      "text/html": [
       "<div>\n",
       "<style scoped>\n",
       "    .dataframe tbody tr th:only-of-type {\n",
       "        vertical-align: middle;\n",
       "    }\n",
       "\n",
       "    .dataframe tbody tr th {\n",
       "        vertical-align: top;\n",
       "    }\n",
       "\n",
       "    .dataframe thead th {\n",
       "        text-align: right;\n",
       "    }\n",
       "</style>\n",
       "<table border=\"1\" class=\"dataframe\">\n",
       "  <thead>\n",
       "    <tr style=\"text-align: right;\">\n",
       "      <th></th>\n",
       "      <th>x</th>\n",
       "      <th>y</th>\n",
       "      <th>p</th>\n",
       "    </tr>\n",
       "  </thead>\n",
       "  <tbody>\n",
       "    <tr>\n",
       "      <th>0</th>\n",
       "      <td>0.018942</td>\n",
       "      <td>1.119525</td>\n",
       "      <td>0.528196</td>\n",
       "    </tr>\n",
       "    <tr>\n",
       "      <th>1</th>\n",
       "      <td>0.065027</td>\n",
       "      <td>1.078406</td>\n",
       "      <td>0.518862</td>\n",
       "    </tr>\n",
       "    <tr>\n",
       "      <th>2</th>\n",
       "      <td>0.110600</td>\n",
       "      <td>1.040851</td>\n",
       "      <td>0.510008</td>\n",
       "    </tr>\n",
       "    <tr>\n",
       "      <th>3</th>\n",
       "      <td>0.157775</td>\n",
       "      <td>1.004858</td>\n",
       "      <td>0.501212</td>\n",
       "    </tr>\n",
       "    <tr>\n",
       "      <th>4</th>\n",
       "      <td>0.206834</td>\n",
       "      <td>0.970192</td>\n",
       "      <td>0.492435</td>\n",
       "    </tr>\n",
       "    <tr>\n",
       "      <th>...</th>\n",
       "      <td>...</td>\n",
       "      <td>...</td>\n",
       "      <td>...</td>\n",
       "    </tr>\n",
       "    <tr>\n",
       "      <th>95</th>\n",
       "      <td>52.517034</td>\n",
       "      <td>0.039237</td>\n",
       "      <td>0.037756</td>\n",
       "    </tr>\n",
       "    <tr>\n",
       "      <th>96</th>\n",
       "      <td>54.812620</td>\n",
       "      <td>0.037867</td>\n",
       "      <td>0.036486</td>\n",
       "    </tr>\n",
       "    <tr>\n",
       "      <th>97</th>\n",
       "      <td>57.177577</td>\n",
       "      <td>0.036561</td>\n",
       "      <td>0.035271</td>\n",
       "    </tr>\n",
       "    <tr>\n",
       "      <th>98</th>\n",
       "      <td>59.642745</td>\n",
       "      <td>0.035300</td>\n",
       "      <td>0.034096</td>\n",
       "    </tr>\n",
       "    <tr>\n",
       "      <th>99</th>\n",
       "      <td>62.243983</td>\n",
       "      <td>0.034068</td>\n",
       "      <td>0.032945</td>\n",
       "    </tr>\n",
       "  </tbody>\n",
       "</table>\n",
       "<p>100 rows × 3 columns</p>\n",
       "</div>"
      ]
     },
     "metadata": {},
     "execution_count": 28
    }
   ],
   "metadata": {}
  },
  {
   "cell_type": "code",
   "execution_count": 29,
   "source": [
    "(odds/(1+odds))"
   ],
   "outputs": [
    {
     "output_type": "execute_result",
     "data": {
      "text/plain": [
       "d_building\n",
       "(-0.0046700000000000005, 0.0422]    0.500483\n",
       "(0.0422, 0.0838]                    0.492231\n",
       "(0.0838, 0.126]                     0.496288\n",
       "(0.126, 0.167]                      0.458888\n",
       "(0.167, 0.209]                      0.495968\n",
       "                                      ...   \n",
       "(3.959, 4.001]                      0.043246\n",
       "(4.001, 4.043]                      0.042665\n",
       "(4.043, 4.084]                      0.041555\n",
       "(4.084, 4.126]                      0.040991\n",
       "(4.126, 4.168]                      0.041088\n",
       "Name: i, Length: 100, dtype: float64"
      ]
     },
     "metadata": {},
     "execution_count": 29
    }
   ],
   "metadata": {}
  },
  {
   "cell_type": "code",
   "execution_count": 30,
   "source": [
    "a= sns.scatterplot(np.exp(odds.index.categories.mid)-1,odds/(1+odds))\n",
    "sns.lineplot(x='x',y='p',data=log_predicts,ax=a)\n",
    "# plt.yscale('log')\n",
    "plt.xscale('log')\n",
    "plt.xlim(1,100)\n",
    "plt.ylabel('Probability')\n",
    "plt.xlabel('Distance (metres)')\n",
    "plt.savefig('../figures/distance_regression.png')\n"
   ],
   "outputs": [
    {
     "output_type": "stream",
     "name": "stderr",
     "text": [
      "/Users/terry/GNSS/.venv/lib/python3.7/site-packages/seaborn/_decorators.py:43: FutureWarning: Pass the following variables as keyword args: x, y. From version 0.12, the only valid positional argument will be `data`, and passing other arguments without an explicit keyword will result in an error or misinterpretation.\n",
      "  FutureWarning\n"
     ]
    },
    {
     "output_type": "display_data",
     "data": {
      "text/plain": [
       "<Figure size 432x288 with 1 Axes>"
      ],
      "image/png": "[encoded data removed]"
     },
     "metadata": {
      "needs_background": "light"
     }
    }
   ],
   "metadata": {}
  },
  {
   "cell_type": "code",
   "execution_count": 31,
   "source": [
    "intersection_residuals_plot=collection.create_image(obs.x.round(0),obs.y.round(0),obs.i-m2.fittedvalues,1,bounds,mean=True)"
   ],
   "outputs": [],
   "metadata": {}
  },
  {
   "cell_type": "code",
   "execution_count": 32,
   "source": [
    "pd.DataFrame(intersection_residuals_plot.flatten()).describe()"
   ],
   "outputs": [
    {
     "output_type": "execute_result",
     "data": {
      "text/plain": [
       "                  0\n",
       "count  10120.000000\n",
       "mean      -0.000052\n",
       "std        0.028266\n",
       "min       -0.180608\n",
       "25%       -0.016575\n",
       "50%       -0.007105\n",
       "75%        0.014963\n",
       "max        0.155381"
      ],
      "text/html": [
       "<div>\n",
       "<style scoped>\n",
       "    .dataframe tbody tr th:only-of-type {\n",
       "        vertical-align: middle;\n",
       "    }\n",
       "\n",
       "    .dataframe tbody tr th {\n",
       "        vertical-align: top;\n",
       "    }\n",
       "\n",
       "    .dataframe thead th {\n",
       "        text-align: right;\n",
       "    }\n",
       "</style>\n",
       "<table border=\"1\" class=\"dataframe\">\n",
       "  <thead>\n",
       "    <tr style=\"text-align: right;\">\n",
       "      <th></th>\n",
       "      <th>0</th>\n",
       "    </tr>\n",
       "  </thead>\n",
       "  <tbody>\n",
       "    <tr>\n",
       "      <th>count</th>\n",
       "      <td>10120.000000</td>\n",
       "    </tr>\n",
       "    <tr>\n",
       "      <th>mean</th>\n",
       "      <td>-0.000052</td>\n",
       "    </tr>\n",
       "    <tr>\n",
       "      <th>std</th>\n",
       "      <td>0.028266</td>\n",
       "    </tr>\n",
       "    <tr>\n",
       "      <th>min</th>\n",
       "      <td>-0.180608</td>\n",
       "    </tr>\n",
       "    <tr>\n",
       "      <th>25%</th>\n",
       "      <td>-0.016575</td>\n",
       "    </tr>\n",
       "    <tr>\n",
       "      <th>50%</th>\n",
       "      <td>-0.007105</td>\n",
       "    </tr>\n",
       "    <tr>\n",
       "      <th>75%</th>\n",
       "      <td>0.014963</td>\n",
       "    </tr>\n",
       "    <tr>\n",
       "      <th>max</th>\n",
       "      <td>0.155381</td>\n",
       "    </tr>\n",
       "  </tbody>\n",
       "</table>\n",
       "</div>"
      ]
     },
     "metadata": {},
     "execution_count": 32
    }
   ],
   "metadata": {}
  },
  {
   "cell_type": "code",
   "execution_count": 33,
   "source": [
    "a=plt.imshow(intersection_residuals_plot,cmap='coolwarm',vmin=-0.15,vmax=0.15,origin='lower')\n",
    "plt.colorbar(a)\n",
    "plt.savefig('../figures/distance_residuals.png')"
   ],
   "outputs": [
    {
     "output_type": "display_data",
     "data": {
      "text/plain": [
       "<Figure size 432x288 with 2 Axes>"
      ],
      "image/png": "[encoded data removed]"
     },
     "metadata": {
      "needs_background": "light"
     }
    }
   ],
   "metadata": {}
  },
  {
   "cell_type": "markdown",
   "source": [
    "We also need to consider the effect of building height.\n"
   ],
   "metadata": {}
  },
  {
   "cell_type": "code",
   "execution_count": 34,
   "source": [
    "sns.histplot(np.tan(np.deg2rad(obs.el)),stat='probability',bins=25,binrange=(0,2.5))\n",
    "plt.xlabel('Intersection height as a fraction of distance')\n",
    "plt.savefig('../figures/elevation.png')"
   ],
   "outputs": [
    {
     "output_type": "display_data",
     "data": {
      "text/plain": [
       "<Figure size 432x288 with 1 Axes>"
      ],
      "image/png": "[encoded data removed]"
     },
     "metadata": {
      "needs_background": "light"
     }
    }
   ],
   "metadata": {}
  },
  {
   "cell_type": "code",
   "execution_count": 35,
   "source": [
    "from metrics import _indicator as indicator"
   ],
   "outputs": [],
   "metadata": {}
  },
  {
   "cell_type": "code",
   "execution_count": 36,
   "source": [
    "cuts_=pd.cut(obs.d_building,100)"
   ],
   "outputs": [],
   "metadata": {}
  },
  {
   "cell_type": "code",
   "execution_count": 37,
   "source": [
    "indicators = []\n",
    "for i,h in enumerate([5,10,20,40]):\n",
    "    for j,m in enumerate([1,4,8,np.inf]):\n",
    "        df=pd.DataFrame({'Height':h,'Metric':m, 'Distance': cuts_.cat.categories.mid, \"Proportion\": indicator(obs.z,h,m).astype('int').groupby(cuts_).mean()})\n",
    "        indicators.append(df)\n",
    "indicators=pd.concat([i.reset_index() for i in indicators])\n",
    "indicators.Height=indicators.Height.astype('category')\n",
    "indicators.Metric=indicators.Metric.astype('category')"
   ],
   "outputs": [],
   "metadata": {}
  },
  {
   "cell_type": "code",
   "execution_count": 41,
   "source": [
    "g=sns.FacetGrid(indicators,col='Height',col_wrap=2,sharex=True,sharey=True,legend_out=True)\n",
    "g=g.map_dataframe(sns.lineplot,x='Distance',y='Proportion',hue='Metric').add_legend()\n",
    "g._legend.set_title('Metrics')\n",
    "new_labels = ['I_1', 'I_4','I_8', 'I_inf']\n",
    "for t, l in zip(g._legend.texts, new_labels): t.set_text(l)\n",
    "plt.xscale('log')\n",
    "plt.xlim(1,100)\n",
    "plt.yscale('log')\n",
    "g.set_ylabels('Probability')\n",
    "g.set_xlabels('Distance')\n",
    "# plt.legend()\n",
    "plt.savefig('../figures/height_metrics.png')"
   ],
   "outputs": [
    {
     "output_type": "display_data",
     "data": {
      "text/plain": [
       "<Figure size 483.875x432 with 4 Axes>"
      ],
      "image/png": "[encoded data removed]"
     },
     "metadata": {
      "needs_background": "light"
     }
    }
   ],
   "metadata": {}
  },
  {
   "cell_type": "code",
   "execution_count": null,
   "source": [
    "fig,axes=plt.subplots(ncols=4,figsize=(12,4))\n",
    "for i,h in enumerate([10,20,30,40]):\n",
    "    axes[i].imshow(collection.create_image(obs.x,obs.y,indicator(obs.z,h,4).astype('int'),0.25,bounds,mean=False)/(i_count+0.01),vmin=0,vmax=0.35)"
   ],
   "outputs": [],
   "metadata": {}
  },
  {
   "cell_type": "code",
   "execution_count": null,
   "source": [
    "fig,axes=plt.subplots(ncols=4,figsize=(12,4))\n",
    "for i,h in enumerate([10,20,30,40]):\n",
    "    axes[i].imshow(collection.create_image(obs.x,obs.y,indicator(obs.z,h,4).astype('int'),0.5,bounds,mean=True),vmin=0,vmax=0.01)"
   ],
   "outputs": [],
   "metadata": {}
  },
  {
   "cell_type": "code",
   "execution_count": 46,
   "source": [
    "obs.time.describe(datetime_is_numeric=True)"
   ],
   "outputs": [
    {
     "output_type": "execute_result",
     "data": {
      "text/plain": [
       "count                          11736284\n",
       "unique                           297005\n",
       "top       2021-01-01 01:46:38.611543163\n",
       "freq                                 49\n",
       "Name: time, dtype: object"
      ]
     },
     "metadata": {},
     "execution_count": 46
    }
   ],
   "metadata": {}
  },
  {
   "cell_type": "code",
   "execution_count": 10,
   "source": [
    "obs.dtypes"
   ],
   "outputs": [
    {
     "output_type": "execute_result",
     "data": {
      "text/plain": [
       "x             float64\n",
       "y             float64\n",
       "w             float64\n",
       "z             float64\n",
       "a             float64\n",
       "b             float64\n",
       "d_ray         float64\n",
       "d_building    float64\n",
       "az            float64\n",
       "el            float64\n",
       "time           object\n",
       "i               int64\n",
       "dtype: object"
      ]
     },
     "metadata": {},
     "execution_count": 10
    }
   ],
   "metadata": {}
  },
  {
   "cell_type": "code",
   "execution_count": 11,
   "source": [
    "timerange=pd.date_range('2021-01-01',freq='15min',periods =97)\n",
    "time_bin=pd.cut(pd.to_datetime(obs.time),timerange)"
   ],
   "outputs": [],
   "metadata": {}
  },
  {
   "cell_type": "code",
   "execution_count": 16,
   "source": [
    ".describe()"
   ],
   "outputs": [
    {
     "output_type": "execute_result",
     "data": {
      "text/plain": [
       "count    96.000000\n",
       "mean      0.069556\n",
       "std       0.002583\n",
       "min       0.064274\n",
       "25%       0.067626\n",
       "50%       0.069435\n",
       "75%       0.071323\n",
       "max       0.075739\n",
       "Name: i, dtype: float64"
      ]
     },
     "metadata": {},
     "execution_count": 16
    }
   ],
   "metadata": {}
  },
  {
   "cell_type": "code",
   "execution_count": null,
   "source": [],
   "outputs": [],
   "metadata": {}
  }
 ]
}