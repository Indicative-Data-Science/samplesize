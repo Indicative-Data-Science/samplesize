{
    "cells": [
        {
            "cell_type": "code",
            "execution_count": null,
            "source": [
                "import gnssmapper as gm\n",
                "import numpy as np\n",
                "import matplotlib.pyplot as plt\n",
                "import pandas as pd\n",
                "import seaborn as sns\n",
                "import statsmodels.api as sm\n",
                "from scipy import interpolate"
            ],
            "outputs": [],
            "metadata": {}
        },
        {
            "cell_type": "code",
            "execution_count": null,
            "source": [
                "names=['ucl','goodchild','hermitage']\n",
                "heights=[46,47,34]\n",
                "samples_list=[pd.read_csv('../data/'+name+'_exact_samples.csv',index_col=0) for name in names]\n",
                "for s,n,h in zip(samples_list,names,heights):\n",
                "    s['location']=n\n",
                "    s['height']=h\n",
                "\n",
                "samples = pd.concat(samples_list,axis=0)\n"
            ],
            "outputs": [],
            "metadata": {}
        },
        {
            "cell_type": "code",
            "execution_count": null,
            "source": [
                "samples.groupby('location').I_inf.max()"
            ],
            "outputs": [],
            "metadata": {}
        },
        {
            "cell_type": "code",
            "execution_count": null,
            "source": [
                "sns.kdeplot(samples.I_inf)#,bins=[10**i for i in np.linspace(2,6,20)])\n",
                "plt.xscale('log')\n",
                "plt.xlim(100,10**6)\n",
                "plt.xlabel('Sample Size')\n",
                "plt.savefig('../figures/sample_size_distribution.png')\n"
            ],
            "outputs": [],
            "metadata": {}
        },
        {
            "cell_type": "code",
            "execution_count": null,
            "source": [
                "samples.describe()\n"
            ],
            "outputs": [],
            "metadata": {}
        },
        {
            "cell_type": "code",
            "execution_count": null,
            "source": [
                "samples_long=samples.melt(id_vars=('est_lb','est','est_ub','height','location'),var_name=\"metric\",value_name='size')\n",
                "samples_long['error']=abs(samples_long.est-samples_long.height)\n",
                "samples_long"
            ],
            "outputs": [],
            "metadata": {}
        },
        {
            "cell_type": "markdown",
            "source": [
                "Intersection Metrics and Window metrics have an inverse relationship"
            ],
            "metadata": {}
        },
        {
            "cell_type": "code",
            "execution_count": null,
            "source": [
                "plt.scatter(samples.I_4,1/samples.W_100)\n",
                "plt.xlabel(\"I_4 metric\")\n",
                "plt.ylabel(\"1/W_100 metric\")\n",
                "plt.savefig('../figures/metrics_inverse_relationship.png')\n"
            ],
            "outputs": [],
            "metadata": {}
        },
        {
            "cell_type": "code",
            "execution_count": null,
            "metadata": {},
            "outputs": [],
            "source": [
                "plt.scatter(samples.I_4,1/samples.W_1)\n",
                "plt.xlabel(\"I_4 metric\")\n",
                "plt.ylabel(\"W_1 metric\")"
            ]
        },
        {
            "cell_type": "code",
            "execution_count": null,
            "source": [
                "sns.heatmap(pd.concat((samples.iloc[:,:6],1/samples.iloc[:,6:10]),axis=1).corr())\n",
                "plt.savefig('../figures/metrics_correlation.png')"
            ],
            "outputs": [],
            "metadata": {}
        },
        {
            "cell_type": "markdown",
            "source": [
                "W_100000 quite different at the data sizes we are working with, because of the level of inf observations"
            ],
            "metadata": {}
        },
        {
            "cell_type": "code",
            "execution_count": null,
            "source": [
                "I=samples_long[samples_long.metric.str.startswith('I')].groupby(['location','metric','size'], as_index=False).error.agg(lambda x: (np.sum(x**2)/len(x))**0.5)"
            ],
            "outputs": [],
            "metadata": {}
        },
        {
            "cell_type": "code",
            "execution_count": null,
            "source": [
                "a=[]\n",
                "for _,g in I.groupby(['location','metric']):\n",
                "    # b=interpolate.UnivariateSpline(g['size'], g['error'],k=3,s=2000)\n",
                "    t=np.exp(np.log(np.ma.masked_invalid(g['size'].values)).mean())\n",
                "    b=interpolate.LSQUnivariateSpline(g['size'], g['error'],k=3,t=[10,100,1000])\n",
                "    new_error=b(g['size'],nu=0)\n",
                "    a.extend(new_error)\n",
                "I['smooth']=a"
            ],
            "outputs": [],
            "metadata": {}
        },
        {
            "cell_type": "code",
            "execution_count": null,
            "source": [
                "df=[]\n",
                "for _,g in samples_long[samples_long.metric.str.startswith('I')].groupby(['location','metric']):\n",
                "    a = g.sort_values('size')\n",
                "    # o=sm.nonparametric.lowess(g['error'].values,np.log(np.maximum(g['size'].values,0.5)),frac=0.25)\n",
                "    o=sm.nonparametric.lowess(a['error'].values,a['size'].values,frac=0.25)\n",
                "    # print(g['size'].values-o[:,0])\n",
                "    _,idx=np.unique(a['size'].values,return_index=True)\n",
                "    # _,idx2=np.unique(o[:,0],return_index=True) #to ensure np.nan treated as unique\n",
                "    # print(len(idx))\n",
                "    df.extend(o[idx,1])\n",
                "I['lowess']=np.array(df)"
            ],
            "outputs": [],
            "metadata": {}
        },
        {
            "cell_type": "code",
            "execution_count": null,
            "source": [
                "# I_long=I.melt(id_vars=['location','metric','size'],value_vars=['smooth','lowess'],var_name=\"smoother\",value_name=\"smoothed_error\")\n",
                "# I_long"
            ],
            "outputs": [],
            "metadata": {}
        },
        {
            "cell_type": "code",
            "execution_count": null,
            "source": [
                "# g=sns.FacetGrid(I_long,col='metric',row='smoother')\n",
                "# g.map_dataframe(sns.lineplot,x='size',y='smoothed_error',hue='location',legend='full')\n",
                "# g.add_legend()\n",
                "# plt.xscale('log')\n",
                "# plt.ylim(0,20)"
            ],
            "outputs": [],
            "metadata": {}
        },
        {
            "cell_type": "code",
            "execution_count": null,
            "metadata": {},
            "outputs": [],
            "source": [
                "g=sns.FacetGrid(I,col='metric',col_wrap=3,col_order=['I_1','I_2','I_4','I_8','I_16','I_inf'])\n",
                "g.map_dataframe(sns.lineplot,x='size',y='lowess',hue='location',legend='auto',size=4)\n",
                "g.map_dataframe(sns.scatterplot,x='size',y='error',hue='location',legend='auto',alpha=0.1,size=0.1)\n",
                "g.add_legend()\n",
                "plt.xscale('log')\n",
                "plt.ylim(0,30)\n",
                "plt.savefig('../figures/rmse_heights.png')"
            ]
        },
        {
            "cell_type": "code",
            "execution_count": null,
            "source": [
                "W_=samples_long[samples_long.metric.str.startswith('W')].copy()\n",
                "W_['size']=1/W_['size']\n",
                "W=W_.groupby(['location','metric','size'], as_index=False).error.agg(lambda x: (np.sum(x**2)/len(x))**0.5)"
            ],
            "outputs": [],
            "metadata": {}
        },
        {
            "cell_type": "code",
            "execution_count": null,
            "source": [
                "g=sns.FacetGrid(W,col='metric')\n",
                "g.map_dataframe(sns.scatterplot,x='size',y='error',hue='location',legend='full')\n",
                "g.add_legend()\n",
                "plt.xscale('log')\n",
                "plt.ylim(1,1000)\n",
                "plt.yscale('log')"
            ],
            "outputs": [],
            "metadata": {}
        },
        {
            "cell_type": "code",
            "execution_count": null,
            "source": [
                "W[['metric','location','size']].value_counts().count()"
            ],
            "outputs": [],
            "metadata": {}
        },
        {
            "cell_type": "code",
            "execution_count": null,
            "source": [
                "W"
            ],
            "outputs": [],
            "metadata": {}
        },
        {
            "cell_type": "markdown",
            "source": [
                "Dropping "
            ],
            "metadata": {}
        },
        {
            "cell_type": "code",
            "execution_count": null,
            "source": [
                "df=[]\n",
                "for _,g in W.groupby(['location','metric']):\n",
                "    a=g.sort_values('size')\n",
                "    # b=interpolate.UnivariateSpline(a['size'], a['error'],k=3,s=100000)\n",
                "    t=np.ma.masked_invalid(a['size'].values).mean()\n",
                "    try:\n",
                "        b=interpolate.LSQUnivariateSpline(a['size'], a['error'],k=3,t=[t])\n",
                "        new_error=b(a['size'],nu=0)\n",
                "        df.extend(new_error)\n",
                "    except:\n",
                "        df.extend(\n",
                "            np.ones_like(a['size'].values) *\n",
                "            np.ma.masked_invalid(a['error'].values).mean()\n",
                "            )\n",
                "W['smooth']=df"
            ],
            "outputs": [],
            "metadata": {}
        },
        {
            "cell_type": "code",
            "execution_count": null,
            "source": [
                "df=[]\n",
                "for _,g in W_.groupby(['location','metric']):\n",
                "    a = g.sort_values('size')\n",
                "    # o=sm.nonparametric.lowess(g['error'].values,np.log(np.maximum(g['size'].values,0.5)),frac=0.25)\n",
                "    o=sm.nonparametric.lowess(a['error'].values,a['size'].values,frac=0.5)\n",
                "    _,idx=np.unique(a['size'].values,return_index=True)\n",
                "    # _,idx2=np.unique(o[:,0],return_index=True) #to ensure np.nan treated as unique\n",
                "    df.extend(o[idx,1])\n",
                "W['lowess']=np.array(df)"
            ],
            "outputs": [],
            "metadata": {}
        },
        {
            "cell_type": "code",
            "execution_count": null,
            "source": [
                "W"
            ],
            "outputs": [],
            "metadata": {}
        },
        {
            "cell_type": "code",
            "execution_count": null,
            "source": [
                "W_long=W.melt(id_vars=['location','metric','size'],value_vars=['smooth','lowess'],var_name=\"smoother\",value_name=\"smoothed_error\")\n",
                "W_long"
            ],
            "outputs": [],
            "metadata": {}
        },
        {
            "cell_type": "code",
            "execution_count": null,
            "source": [
                "g=sns.FacetGrid(W_long,col='metric',row='smoother')\n",
                "g.map_dataframe(sns.lineplot,x='size',y='smoothed_error',hue='location',legend='full')\n",
                "g.add_legend()\n",
                "plt.xscale('log')\n",
                "plt.ylim(0,20)"
            ],
            "outputs": [],
            "metadata": {}
        },
        {
            "cell_type": "code",
            "execution_count": null,
            "source": [
                "J=samples.copy()\n",
                "J['J_2']=J.I_2/np.maximum(J.I_1,1)\n",
                "J['J_4']=J.I_4/np.maximum(J.I_2,1)\n",
                "J['J_8']=J.I_8/np.maximum(J.I_4,1)\n",
                "J['J_16']=J.I_16/np.maximum(J.I_8,1)\n",
                "J['J_inf']=J.I_inf/np.maximum(J.I_16,1)\n",
                "J_long=J.melt(id_vars=('est_lb','est','est_ub','height','location'),var_name=\"metric\",value_name='size')\n",
                "J_long['error']=abs(J_long.est-J_long.height)\n",
                "J_long=J_long[J_long.metric.str.startswith('J')]"
            ],
            "outputs": [],
            "metadata": {}
        },
        {
            "cell_type": "code",
            "execution_count": null,
            "source": [
                "J_long['size'].describe()"
            ],
            "outputs": [],
            "metadata": {}
        },
        {
            "cell_type": "code",
            "execution_count": null,
            "source": [
                "plt.hist(J_long['size'],bins=range(20))"
            ],
            "outputs": [],
            "metadata": {}
        },
        {
            "cell_type": "code",
            "execution_count": null,
            "source": [
                "R=J_long.groupby(['location','metric','size'], as_index=False).error.agg(lambda x: (np.sum(x**2)/len(x))**0.5)\n",
                "R"
            ],
            "outputs": [],
            "metadata": {}
        },
        {
            "cell_type": "code",
            "execution_count": null,
            "source": [
                "df=[]\n",
                "for _,g in J_long.groupby(['location','metric']):\n",
                "    a = g.sort_values('size')\n",
                "    # o=sm.nonparametric.lowess(g['error'].values,np.log(np.maximum(g['size'].values,0.5)),frac=0.25)\n",
                "    o=sm.nonparametric.lowess(a['error'].values,a['size'].values,frac=0.45)\n",
                "    # print(g['size'].values-o[:,0])\n",
                "    _,idx=np.unique(a['size'].values,return_index=True)\n",
                "    # _,idx2=np.unique(o[:,0],return_index=True) #to ensure np.nan treated as unique\n",
                "    # print(len(idx))\n",
                "    df.extend(o[idx,1])\n",
                "R['lowess']=np.array(df)\n",
                "R"
            ],
            "outputs": [],
            "metadata": {}
        },
        {
            "cell_type": "code",
            "execution_count": null,
            "source": [
                "g=sns.FacetGrid(R,col='metric',col_wrap=3,col_order=['J_2','J_4','J_8','J_16','J_inf'])\n",
                "g.map_dataframe(sns.lineplot,x='size',y='lowess',hue='location',legend='auto',size=4)\n",
                "g.map_dataframe(sns.scatterplot,x='size',y='error',hue='location',legend='auto',alpha=0.1,size=0.1)\n",
                "g.add_legend()\n",
                "plt.xscale('log')\n",
                "plt.ylim(1,1000)\n",
                "plt.yscale('log')\n",
                "plt.savefig('../figures/metric_usefulness.png')"
            ],
            "outputs": [],
            "metadata": {}
        },
        {
            "cell_type": "code",
            "execution_count": null,
            "source": [
                "R_long=R.melt(id_vars=['location','metric','size'],value_vars=['lowess'],var_name=\"smoother\",value_name=\"smoothed_error\")\n",
                "R_long"
            ],
            "outputs": [],
            "metadata": {}
        },
        {
            "cell_type": "code",
            "execution_count": null,
            "source": [
                "g=sns.FacetGrid(R_long,col='metric',row='smoother')\n",
                "g.map_dataframe(sns.lineplot,x='size',y='smoothed_error',hue='location',legend='full')\n",
                "g.add_legend()\n",
                "plt.xscale('log')\n",
                "plt.ylim(0,20)"
            ],
            "outputs": [],
            "metadata": {}
        },
        {
            "cell_type": "code",
            "execution_count": null,
            "source": [],
            "outputs": [],
            "metadata": {}
        }
    ],
    "metadata": {
        "orig_nbformat": 4,
        "language_info": {
            "name": "python",
            "version": "3.9.1"
        },
        "kernelspec": {
            "name": "python3",
            "display_name": "Python 3.9.1 64-bit ('.venv': venv)"
        },
        "interpreter": {
            "hash": "9705feb773ff1d9aeb7ac0c1c03e3ae0a425c583fb9819d4f74e15fc70a48337"
        }
    },
    "nbformat": 4,
    "nbformat_minor": 2
}