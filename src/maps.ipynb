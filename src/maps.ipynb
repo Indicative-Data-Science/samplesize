{
 "cells": [
  {
   "cell_type": "code",
   "execution_count": null,
   "source": [
    "import gnssmapper as gm\n",
    "import geopandas as gpd\n",
    "import pandas as pd\n",
    "import numpy as np\n",
    "import matplotlib.pyplot as plt"
   ],
   "outputs": [],
   "metadata": {}
  },
  {
   "cell_type": "code",
   "execution_count": null,
   "source": [
    "mapfile='../maps/tcr/tcr.gpkg'\n",
    "obsfile='../data/tcr.csv'\n"
   ],
   "outputs": [],
   "metadata": {}
  },
  {
   "cell_type": "code",
   "execution_count": null,
   "source": [
    "map_ = gpd.read_file(mapfile)\n",
    "height = pd.read_csv(\n",
    "    '../maps/tq/tq.csv', names=pd.read_csv('../maps/tcr/docs/BHA_Header.csv').columns)\n",
    "map_ = map_.merge(height, left_on='fid', right_on='OS_TOPO_TOID')\n",
    "map_['height'] = (map_.RelH2+map_.RelHMax)/2\n",
    "map_ = map_[['height', 'geometry']]\n",
    "map_ = map_.set_crs(7405, allow_override=True)\n",
    "gm.geo.pyproj.network.set_network_enabled()\n"
   ],
   "outputs": [],
   "metadata": {}
  },
  {
   "cell_type": "code",
   "execution_count": null,
   "source": [
    "obs=pd.read_csv(obsfile,index_col=0)\n",
    "\n"
   ],
   "outputs": [],
   "metadata": {}
  },
  {
   "cell_type": "code",
   "execution_count": null,
   "source": [
    "obs"
   ],
   "outputs": [],
   "metadata": {}
  },
  {
   "cell_type": "code",
   "execution_count": null,
   "source": [
    "xy=obs[['x','y']].drop_duplicates()\n",
    "points=gpd.GeoSeries(gpd.points_from_xy(xy.x,xy.y,crs=7405))"
   ],
   "outputs": [],
   "metadata": {}
  },
  {
   "cell_type": "code",
   "execution_count": null,
   "source": [
    "points.shape"
   ],
   "outputs": [],
   "metadata": {}
  },
  {
   "cell_type": "code",
   "execution_count": null,
   "source": [
    "base=map_.plot(column='height',legend=True)\n",
    "points.plot(ax=base,marker='.',color='red',markersize=1,alpha=0.3)"
   ],
   "outputs": [],
   "metadata": {}
  },
  {
   "cell_type": "code",
   "execution_count": null,
   "source": [
    "from metrics import int_metric"
   ],
   "outputs": [],
   "metadata": {}
  },
  {
   "cell_type": "code",
   "execution_count": null,
   "source": [
    "map_['with_occluded_I_inf']=[int_metric(obs[str(i)],h,np.inf) for i,h in enumerate(map_.height)]\n",
    "map_['with_occluded_I_8']=[int_metric(obs[str(i)],h,8) for i,h in enumerate(map_.height)]\n",
    "map_['with_occluded_I_2']=[int_metric(obs[str(i)],h,2) for i,h in enumerate(map_.height)]\n",
    "obs2=obs.drop(columns=['x','y','t'])\n",
    "obs2[~obs2.apply(lambda x: x<x.min()+1e-6,axis=1)]=np.nan\n",
    "map_['I_inf']=[int_metric(obs2[str(i)],h,np.inf) for i,h in enumerate(map_.height)]\n",
    "map_['I_8']=[int_metric(obs2[str(i)],h,8) for i,h in enumerate(map_.height)]\n",
    "map_['I_2']=[int_metric(obs2[str(i)],h,2) for i,h in enumerate(map_.height)]\n"
   ],
   "outputs": [],
   "metadata": {}
  },
  {
   "cell_type": "code",
   "execution_count": null,
   "source": [
    "f,axes=plt.subplots(2,2,figsize=(8,8))\n",
    "map_.plot(ax=axes[0,0],column='with_occluded_I_inf',legend=True)\n",
    "map_.plot(ax=axes[0,1],column='with_occluded_I_2',legend=True)\n",
    "map_.plot(ax=axes[1,0],column='I_inf',legend=True)\n",
    "map_.plot(ax=axes[1,1],column='I_2',legend=True)\n",
    "plt.tight_layout()\n",
    "plt.show()"
   ],
   "outputs": [],
   "metadata": {}
  }
 ],
 "metadata": {
  "orig_nbformat": 4,
  "language_info": {
   "name": "python",
   "version": "3.7.10",
   "mimetype": "text/x-python",
   "codemirror_mode": {
    "name": "ipython",
    "version": 3
   },
   "pygments_lexer": "ipython3",
   "nbconvert_exporter": "python",
   "file_extension": ".py"
  },
  "kernelspec": {
   "name": "python3",
   "display_name": "Python 3.7.11 64-bit ('.venv': venv)"
  },
  "interpreter": {
   "hash": "ea33e960d487cb7ab7050aa5e74ffdc4b3c162331c1f5e48f0a03d11c1ee4d1e"
  }
 },
 "nbformat": 4,
 "nbformat_minor": 2
}